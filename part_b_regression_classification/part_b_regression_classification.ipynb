{
 "cells": [
  {
   "cell_type": "markdown",
   "id": "74959bf3",
   "metadata": {},
   "source": [
    "# Part B: Simple Linear Regression & Multiple Linear Regression"
   ]
  },
  {
   "cell_type": "markdown",
   "id": "652a4f70",
   "metadata": {},
   "source": [
    "### By: Madhumitha (Maddie) Ananda Subramanian, Warisara Lee\n",
    "Editor: Michael Berbach"
   ]
  },
  {
   "cell_type": "markdown",
   "id": "99368801",
   "metadata": {},
   "source": [
    "When observing the data set we see that this is the head of data set."
   ]
  },
  {
   "cell_type": "code",
   "execution_count": 1,
   "id": "fca63a7a",
   "metadata": {},
   "outputs": [
    {
     "name": "stdout",
     "output_type": "stream",
     "text": [
      "   Serial No.  GRE Score  TOEFL Score  University Rating  SOP  LOR   CGPA  \\\n",
      "0           1        337          118                  4  4.5   4.5  9.65   \n",
      "1           2        324          107                  4  4.0   4.5  8.87   \n",
      "2           3        316          104                  3  3.0   3.5  8.00   \n",
      "3           4        322          110                  3  3.5   2.5  8.67   \n",
      "4           5        314          103                  2  2.0   3.0  8.21   \n",
      "\n",
      "   Research  Chance of Admit   \n",
      "0         1              0.92  \n",
      "1         1              0.76  \n",
      "2         1              0.72  \n",
      "3         1              0.80  \n",
      "4         0              0.65  \n"
     ]
    }
   ],
   "source": [
    "import pandas as pd\n",
    "import numpy as np\n",
    "from sklearn import preprocessing\n",
    "import matplotlib.pyplot as plt\n",
    "\n",
    "fPath = './data/Admission_Predict_Ver1.1_small_data_set_for_Linear_Regression.csv'\n",
    "df = pd.read_csv(fPath)\n",
    "\n",
    "print(df.head())\n",
    "dfMB = df"
   ]
  },
  {
   "cell_type": "markdown",
   "id": "84d62eee",
   "metadata": {},
   "source": [
    "## Simple Linear Regression"
   ]
  },
  {
   "cell_type": "markdown",
   "id": "daf2b655",
   "metadata": {},
   "source": [
    "### Dataset Observations"
   ]
  },
  {
   "cell_type": "markdown",
   "id": "2151565c",
   "metadata": {},
   "source": [
    "Through using describe dfMB, we can see that the count, mean, standard deviation, min, and percentiles are visible. This then categorizes the dataset."
   ]
  },
  {
   "cell_type": "code",
   "execution_count": 2,
   "id": "7df93dee",
   "metadata": {},
   "outputs": [
    {
     "data": {
      "text/html": [
       "<div>\n",
       "<style scoped>\n",
       "    .dataframe tbody tr th:only-of-type {\n",
       "        vertical-align: middle;\n",
       "    }\n",
       "\n",
       "    .dataframe tbody tr th {\n",
       "        vertical-align: top;\n",
       "    }\n",
       "\n",
       "    .dataframe thead th {\n",
       "        text-align: right;\n",
       "    }\n",
       "</style>\n",
       "<table border=\"1\" class=\"dataframe\">\n",
       "  <thead>\n",
       "    <tr style=\"text-align: right;\">\n",
       "      <th></th>\n",
       "      <th>Serial No.</th>\n",
       "      <th>GRE Score</th>\n",
       "      <th>TOEFL Score</th>\n",
       "      <th>University Rating</th>\n",
       "      <th>SOP</th>\n",
       "      <th>LOR</th>\n",
       "      <th>CGPA</th>\n",
       "      <th>Research</th>\n",
       "      <th>Chance of Admit</th>\n",
       "    </tr>\n",
       "  </thead>\n",
       "  <tbody>\n",
       "    <tr>\n",
       "      <th>count</th>\n",
       "      <td>500.000000</td>\n",
       "      <td>500.000000</td>\n",
       "      <td>500.000000</td>\n",
       "      <td>500.000000</td>\n",
       "      <td>500.000000</td>\n",
       "      <td>500.00000</td>\n",
       "      <td>500.000000</td>\n",
       "      <td>500.000000</td>\n",
       "      <td>500.00000</td>\n",
       "    </tr>\n",
       "    <tr>\n",
       "      <th>mean</th>\n",
       "      <td>250.500000</td>\n",
       "      <td>316.472000</td>\n",
       "      <td>107.192000</td>\n",
       "      <td>3.114000</td>\n",
       "      <td>3.374000</td>\n",
       "      <td>3.48400</td>\n",
       "      <td>8.576440</td>\n",
       "      <td>0.560000</td>\n",
       "      <td>0.72174</td>\n",
       "    </tr>\n",
       "    <tr>\n",
       "      <th>std</th>\n",
       "      <td>144.481833</td>\n",
       "      <td>11.295148</td>\n",
       "      <td>6.081868</td>\n",
       "      <td>1.143512</td>\n",
       "      <td>0.991004</td>\n",
       "      <td>0.92545</td>\n",
       "      <td>0.604813</td>\n",
       "      <td>0.496884</td>\n",
       "      <td>0.14114</td>\n",
       "    </tr>\n",
       "    <tr>\n",
       "      <th>min</th>\n",
       "      <td>1.000000</td>\n",
       "      <td>290.000000</td>\n",
       "      <td>92.000000</td>\n",
       "      <td>1.000000</td>\n",
       "      <td>1.000000</td>\n",
       "      <td>1.00000</td>\n",
       "      <td>6.800000</td>\n",
       "      <td>0.000000</td>\n",
       "      <td>0.34000</td>\n",
       "    </tr>\n",
       "    <tr>\n",
       "      <th>25%</th>\n",
       "      <td>125.750000</td>\n",
       "      <td>308.000000</td>\n",
       "      <td>103.000000</td>\n",
       "      <td>2.000000</td>\n",
       "      <td>2.500000</td>\n",
       "      <td>3.00000</td>\n",
       "      <td>8.127500</td>\n",
       "      <td>0.000000</td>\n",
       "      <td>0.63000</td>\n",
       "    </tr>\n",
       "    <tr>\n",
       "      <th>50%</th>\n",
       "      <td>250.500000</td>\n",
       "      <td>317.000000</td>\n",
       "      <td>107.000000</td>\n",
       "      <td>3.000000</td>\n",
       "      <td>3.500000</td>\n",
       "      <td>3.50000</td>\n",
       "      <td>8.560000</td>\n",
       "      <td>1.000000</td>\n",
       "      <td>0.72000</td>\n",
       "    </tr>\n",
       "    <tr>\n",
       "      <th>75%</th>\n",
       "      <td>375.250000</td>\n",
       "      <td>325.000000</td>\n",
       "      <td>112.000000</td>\n",
       "      <td>4.000000</td>\n",
       "      <td>4.000000</td>\n",
       "      <td>4.00000</td>\n",
       "      <td>9.040000</td>\n",
       "      <td>1.000000</td>\n",
       "      <td>0.82000</td>\n",
       "    </tr>\n",
       "    <tr>\n",
       "      <th>max</th>\n",
       "      <td>500.000000</td>\n",
       "      <td>340.000000</td>\n",
       "      <td>120.000000</td>\n",
       "      <td>5.000000</td>\n",
       "      <td>5.000000</td>\n",
       "      <td>5.00000</td>\n",
       "      <td>9.920000</td>\n",
       "      <td>1.000000</td>\n",
       "      <td>0.97000</td>\n",
       "    </tr>\n",
       "  </tbody>\n",
       "</table>\n",
       "</div>"
      ],
      "text/plain": [
       "       Serial No.   GRE Score  TOEFL Score  University Rating         SOP  \\\n",
       "count  500.000000  500.000000   500.000000         500.000000  500.000000   \n",
       "mean   250.500000  316.472000   107.192000           3.114000    3.374000   \n",
       "std    144.481833   11.295148     6.081868           1.143512    0.991004   \n",
       "min      1.000000  290.000000    92.000000           1.000000    1.000000   \n",
       "25%    125.750000  308.000000   103.000000           2.000000    2.500000   \n",
       "50%    250.500000  317.000000   107.000000           3.000000    3.500000   \n",
       "75%    375.250000  325.000000   112.000000           4.000000    4.000000   \n",
       "max    500.000000  340.000000   120.000000           5.000000    5.000000   \n",
       "\n",
       "            LOR         CGPA    Research  Chance of Admit   \n",
       "count  500.00000  500.000000  500.000000         500.00000  \n",
       "mean     3.48400    8.576440    0.560000           0.72174  \n",
       "std      0.92545    0.604813    0.496884           0.14114  \n",
       "min      1.00000    6.800000    0.000000           0.34000  \n",
       "25%      3.00000    8.127500    0.000000           0.63000  \n",
       "50%      3.50000    8.560000    1.000000           0.72000  \n",
       "75%      4.00000    9.040000    1.000000           0.82000  \n",
       "max      5.00000    9.920000    1.000000           0.97000  "
      ]
     },
     "execution_count": 2,
     "metadata": {},
     "output_type": "execute_result"
    }
   ],
   "source": [
    "dfMB.describe()"
   ]
  },
  {
   "cell_type": "markdown",
   "id": "4d19d85f",
   "metadata": {},
   "source": [
    "## Preproccessing"
   ]
  },
  {
   "cell_type": "markdown",
   "id": "2c80f083",
   "metadata": {},
   "source": [
    "### Dropping Columns"
   ]
  },
  {
   "cell_type": "markdown",
   "id": "70b98e77",
   "metadata": {},
   "source": [
    "For this specific dataset, we thought it would be fine to drop the Research column as it doesn't play a major role in finding the average percentile in acceptance. "
   ]
  },
  {
   "cell_type": "code",
   "execution_count": 3,
   "id": "a55450e7",
   "metadata": {},
   "outputs": [
    {
     "data": {
      "text/html": [
       "<div>\n",
       "<style scoped>\n",
       "    .dataframe tbody tr th:only-of-type {\n",
       "        vertical-align: middle;\n",
       "    }\n",
       "\n",
       "    .dataframe tbody tr th {\n",
       "        vertical-align: top;\n",
       "    }\n",
       "\n",
       "    .dataframe thead th {\n",
       "        text-align: right;\n",
       "    }\n",
       "</style>\n",
       "<table border=\"1\" class=\"dataframe\">\n",
       "  <thead>\n",
       "    <tr style=\"text-align: right;\">\n",
       "      <th></th>\n",
       "      <th>Serial No.</th>\n",
       "      <th>GRE Score</th>\n",
       "      <th>TOEFL Score</th>\n",
       "      <th>University Rating</th>\n",
       "      <th>SOP</th>\n",
       "      <th>LOR</th>\n",
       "      <th>CGPA</th>\n",
       "      <th>Research</th>\n",
       "      <th>Chance of Admit</th>\n",
       "    </tr>\n",
       "  </thead>\n",
       "  <tbody>\n",
       "    <tr>\n",
       "      <th>0</th>\n",
       "      <td>1</td>\n",
       "      <td>337</td>\n",
       "      <td>118</td>\n",
       "      <td>4</td>\n",
       "      <td>4.5</td>\n",
       "      <td>4.5</td>\n",
       "      <td>9.65</td>\n",
       "      <td>1</td>\n",
       "      <td>0.92</td>\n",
       "    </tr>\n",
       "    <tr>\n",
       "      <th>1</th>\n",
       "      <td>2</td>\n",
       "      <td>324</td>\n",
       "      <td>107</td>\n",
       "      <td>4</td>\n",
       "      <td>4.0</td>\n",
       "      <td>4.5</td>\n",
       "      <td>8.87</td>\n",
       "      <td>1</td>\n",
       "      <td>0.76</td>\n",
       "    </tr>\n",
       "    <tr>\n",
       "      <th>2</th>\n",
       "      <td>3</td>\n",
       "      <td>316</td>\n",
       "      <td>104</td>\n",
       "      <td>3</td>\n",
       "      <td>3.0</td>\n",
       "      <td>3.5</td>\n",
       "      <td>8.00</td>\n",
       "      <td>1</td>\n",
       "      <td>0.72</td>\n",
       "    </tr>\n",
       "    <tr>\n",
       "      <th>3</th>\n",
       "      <td>4</td>\n",
       "      <td>322</td>\n",
       "      <td>110</td>\n",
       "      <td>3</td>\n",
       "      <td>3.5</td>\n",
       "      <td>2.5</td>\n",
       "      <td>8.67</td>\n",
       "      <td>1</td>\n",
       "      <td>0.80</td>\n",
       "    </tr>\n",
       "    <tr>\n",
       "      <th>4</th>\n",
       "      <td>5</td>\n",
       "      <td>314</td>\n",
       "      <td>103</td>\n",
       "      <td>2</td>\n",
       "      <td>2.0</td>\n",
       "      <td>3.0</td>\n",
       "      <td>8.21</td>\n",
       "      <td>0</td>\n",
       "      <td>0.65</td>\n",
       "    </tr>\n",
       "  </tbody>\n",
       "</table>\n",
       "</div>"
      ],
      "text/plain": [
       "   Serial No.  GRE Score  TOEFL Score  University Rating  SOP  LOR   CGPA  \\\n",
       "0           1        337          118                  4  4.5   4.5  9.65   \n",
       "1           2        324          107                  4  4.0   4.5  8.87   \n",
       "2           3        316          104                  3  3.0   3.5  8.00   \n",
       "3           4        322          110                  3  3.5   2.5  8.67   \n",
       "4           5        314          103                  2  2.0   3.0  8.21   \n",
       "\n",
       "   Research  Chance of Admit   \n",
       "0         1              0.92  \n",
       "1         1              0.76  \n",
       "2         1              0.72  \n",
       "3         1              0.80  \n",
       "4         0              0.65  "
      ]
     },
     "execution_count": 3,
     "metadata": {},
     "output_type": "execute_result"
    }
   ],
   "source": [
    "dfMB.drop(['Research'], axis=1)\n",
    "dfMB.head()"
   ]
  },
  {
   "cell_type": "code",
   "execution_count": 4,
   "id": "acf22b6a",
   "metadata": {},
   "outputs": [
    {
     "name": "stdout",
     "output_type": "stream",
     "text": [
      "Serial No.           0\n",
      "GRE Score            0\n",
      "TOEFL Score          0\n",
      "University Rating    0\n",
      "SOP                  0\n",
      "LOR                  0\n",
      "CGPA                 0\n",
      "Research             0\n",
      "Chance of Admit      0\n",
      "dtype: int64\n"
     ]
    }
   ],
   "source": [
    "missing_values = dfMB.isna().sum()\n",
    "print(missing_values)"
   ]
  },
  {
   "cell_type": "markdown",
   "id": "79a1872c",
   "metadata": {},
   "source": [
    "### Normalizing"
   ]
  },
  {
   "cell_type": "markdown",
   "id": "5e7c03db",
   "metadata": {},
   "source": [
    "This is where we normalize the data and check to see if there are any outliers that we must eliminate."
   ]
  },
  {
   "cell_type": "code",
   "execution_count": 5,
   "id": "4e2d9b27",
   "metadata": {},
   "outputs": [
    {
     "name": "stdout",
     "output_type": "stream",
     "text": [
      "Entries before outliers = 500\n",
      "Entries after outliers = 0\n"
     ]
    }
   ],
   "source": [
    "normal_df = (dfMB - dfMB.mean())/dfMB.std()\n",
    "\n",
    "normal_df = normal_df.loc[((normal_df > -3).sum(axis=1)==6) & ((normal_df <= 3).sum(axis=1)==6)]\n",
    "\n",
    "print('Entries before outliers = %d' % (dfMB.shape[0]))\n",
    "print('Entries after outliers = %d' % (normal_df.shape[0]))"
   ]
  },
  {
   "cell_type": "markdown",
   "id": "d9f1d007",
   "metadata": {},
   "source": [
    "## Scatter Plot"
   ]
  },
  {
   "cell_type": "markdown",
   "id": "9dc7c633",
   "metadata": {},
   "source": [
    "In this segment, we chose to make a scatter plot for the data set. "
   ]
  },
  {
   "cell_type": "code",
   "execution_count": 6,
   "id": "d67b11c0",
   "metadata": {},
   "outputs": [
    {
     "name": "stdout",
     "output_type": "stream",
     "text": [
      "Index(['Serial No.', 'GRE Score', 'TOEFL Score', 'University Rating', 'SOP',\n",
      "       'LOR ', 'CGPA', 'Research', 'Chance of Admit '],\n",
      "      dtype='object')\n"
     ]
    }
   ],
   "source": [
    "print(normal_df.columns)"
   ]
  },
  {
   "cell_type": "markdown",
   "id": "9d1e1ccf",
   "metadata": {},
   "source": [
    "The scatterplot's X axis is: Chance of Admit and the Y axis is GRE Score. The goal of this scatter plot is to see if we can find the Chance of Admit vs GRE Score"
   ]
  },
  {
   "cell_type": "code",
   "execution_count": 7,
   "id": "45236d33",
   "metadata": {},
   "outputs": [
    {
     "data": {
      "image/png": "[encoded data removed]",
      "text/plain": [
       "<Figure size 640x480 with 1 Axes>"
      ]
     },
     "metadata": {},
     "output_type": "display_data"
    }
   ],
   "source": [
    "plt.scatter(dfMB['Chance of Admit '], dfMB['GRE Score'])\n",
    "plt.title('Chance of Admit vs GRE score')\n",
    "plt.xlabel('Chance of Admit ')\n",
    "plt.ylabel('GRE Score')\n",
    "plt.show()"
   ]
  },
  {
   "cell_type": "markdown",
   "id": "ad72e9ae",
   "metadata": {},
   "source": [
    "## Ensuring Extrapolated Data in Testing"
   ]
  },
  {
   "cell_type": "markdown",
   "id": "c23b610c",
   "metadata": {},
   "source": [
    "### Finding Minimum Chance of Admit versus Maximum Chance of Admit"
   ]
  },
  {
   "cell_type": "markdown",
   "id": "aceb6ed0",
   "metadata": {},
   "source": [
    "Through this we can see what is the lowest versus highest chance of admitance in our dataset"
   ]
  },
  {
   "cell_type": "code",
   "execution_count": 8,
   "id": "735a97f6",
   "metadata": {},
   "outputs": [
    {
     "name": "stdout",
     "output_type": "stream",
     "text": [
      "Row with minimum chance of admit:\n",
      "    Serial No.  GRE Score  TOEFL Score  University Rating  SOP  LOR   CGPA  \\\n",
      "92          93        298           98                  2  4.0   3.0  8.03   \n",
      "\n",
      "    Research  Chance of Admit   \n",
      "92         0              0.34  \n",
      "\n",
      "Row with maximum chance of admit:\n",
      "    Serial No.  GRE Score  TOEFL Score  University Rating  SOP  LOR   CGPA  \\\n",
      "24          25        336          119                  5  4.0   3.5   9.8   \n",
      "\n",
      "    Research  Chance of Admit   \n",
      "24         1              0.97  \n"
     ]
    }
   ],
   "source": [
    "min_chance_admit = dfMB['Chance of Admit '].idxmin()\n",
    "max_chance_admit = dfMB['Chance of Admit '].idxmax()\n",
    "\n",
    "min_row = dfMB.loc[[min_chance_admit]]\n",
    "max_row = dfMB.loc[[max_chance_admit]]\n",
    "\n",
    "no_minmax_df = dfMB.drop(index=min_chance_admit)\n",
    "no_minmax_df = dfMB.drop(index=max_chance_admit)\n",
    "\n",
    "print(\"Row with minimum chance of admit:\")\n",
    "print(min_row)\n",
    "\n",
    "print(\"\\nRow with maximum chance of admit:\")\n",
    "print(max_row)"
   ]
  },
  {
   "cell_type": "markdown",
   "id": "842a1b10",
   "metadata": {},
   "source": [
    "### Splitting Into Training & Testing Data"
   ]
  },
  {
   "cell_type": "markdown",
   "id": "48c5b8ab",
   "metadata": {},
   "source": [
    "We then can split the dataset for testing"
   ]
  },
  {
   "cell_type": "code",
   "execution_count": 9,
   "id": "6584953f",
   "metadata": {},
   "outputs": [],
   "source": [
    "from sklearn.model_selection import train_test_split\n",
    "\n",
    "X = no_minmax_df[['Chance of Admit ']]\n",
    "y = no_minmax_df['GRE Score']\n",
    "\n",
    "X_train, X_test, y_train, y_test = train_test_split(X, y, test_size=0.2, random_state=42)"
   ]
  },
  {
   "cell_type": "markdown",
   "id": "1b8eb4ed",
   "metadata": {},
   "source": [
    "### Adding Test Data Outside of Training Range"
   ]
  },
  {
   "cell_type": "markdown",
   "id": "9b37146b",
   "metadata": {},
   "source": [
    "We then can add any outside data from the training range"
   ]
  },
  {
   "cell_type": "code",
   "execution_count": 10,
   "id": "962dec38",
   "metadata": {},
   "outputs": [],
   "source": [
    "min_x = min_row['Chance of Admit '].iloc[0]\n",
    "min_y = min_row['GRE Score'].iloc[0]\n",
    "\n",
    "max_x = max_row['Chance of Admit '].iloc[0]\n",
    "max_y = max_row['GRE Score'].iloc[0]\n",
    "\n",
    "extrapolated_x = pd.DataFrame({'Chance of Admit ': [min_x, max_x]})\n",
    "extrapolated_y = pd.Series([min_y, max_y])\n",
    "\n",
    "X_test = pd.concat([X_test, extrapolated_x], ignore_index=True)\n",
    "y_test = pd.concat([y_test, extrapolated_y], ignore_index=True)"
   ]
  },
  {
   "cell_type": "markdown",
   "id": "6161878a",
   "metadata": {},
   "source": [
    "### Apply Linear Regression Model"
   ]
  },
  {
   "cell_type": "markdown",
   "id": "65c8d580",
   "metadata": {},
   "source": [
    "After this we can apply the linear regression model for the testing"
   ]
  },
  {
   "cell_type": "code",
   "execution_count": 11,
   "id": "04a83049",
   "metadata": {},
   "outputs": [],
   "source": [
    "from sklearn.linear_model import LinearRegression\n",
    "\n",
    "regressor = LinearRegression()\n",
    "regressor.fit(X_train, y_train)\n",
    "\n",
    "y_pred_train = regressor.predict(X_train)\n",
    "y_pred_test = regressor.predict(X_test)"
   ]
  },
  {
   "cell_type": "markdown",
   "id": "d5e4eac7",
   "metadata": {},
   "source": [
    "## Scatter Plot & Regression Line (Training Data)"
   ]
  },
  {
   "cell_type": "markdown",
   "id": "ad1f3965",
   "metadata": {},
   "source": [
    "This is the data that we have when we train the data"
   ]
  },
  {
   "cell_type": "code",
   "execution_count": 12,
   "id": "0125af5e",
   "metadata": {},
   "outputs": [
    {
     "data": {
      "image/png": "[encoded data removed]",
      "text/plain": [
       "<Figure size 640x480 with 1 Axes>"
      ]
     },
     "metadata": {},
     "output_type": "display_data"
    }
   ],
   "source": [
    "plt.scatter(X_train, y_train)\n",
    "plt.plot(X_train, y_pred_train, color=\"red\")\n",
    "plt.title('Chance of Admit vs GRE score(Training)')\n",
    "plt.xlabel('Chance of Admit ')\n",
    "plt.ylabel('GRE Score')\n",
    "plt.show()"
   ]
  },
  {
   "cell_type": "markdown",
   "id": "ccb894cd",
   "metadata": {},
   "source": [
    "## Scatter Plot & Regression Line (Testing Data)"
   ]
  },
  {
   "cell_type": "markdown",
   "id": "54a8b78d",
   "metadata": {},
   "source": [
    "This is the data that we have when we test the data"
   ]
  },
  {
   "cell_type": "code",
   "execution_count": 13,
   "id": "2a43dd91",
   "metadata": {},
   "outputs": [
    {
     "data": {
      "image/png": "[encoded data removed]",
      "text/plain": [
       "<Figure size 640x480 with 1 Axes>"
      ]
     },
     "metadata": {},
     "output_type": "display_data"
    }
   ],
   "source": [
    "plt.scatter(X_train, y_train)\n",
    "plt.plot(X_test, y_pred_test, color=\"red\")\n",
    "plt.title('Chance of Admit vs GRE score(Testing)')\n",
    "plt.xlabel('Chance of Admit ')\n",
    "plt.ylabel('GRE Score')\n",
    "plt.show()"
   ]
  },
  {
   "cell_type": "markdown",
   "id": "a2ab4d3b",
   "metadata": {},
   "source": [
    "## Extrapolation Predictions"
   ]
  },
  {
   "cell_type": "markdown",
   "id": "a00d02e2",
   "metadata": {},
   "source": [
    "The following is predictions of the extrapolation"
   ]
  },
  {
   "cell_type": "code",
   "execution_count": 14,
   "id": "3fc184c8",
   "metadata": {},
   "outputs": [
    {
     "name": "stdout",
     "output_type": "stream",
     "text": [
      "Extrapolating a number larger than the range\n",
      "Given x value: Chance of Admit     0.34\n",
      "Name: 100, dtype: float64\n",
      "Actual y value: 298\n",
      "Predicted y value: 291.8571647860407\n",
      "Residual: 6.142835213959302\n"
     ]
    }
   ],
   "source": [
    "print('Extrapolating a number larger than the range')\n",
    "print(f'Given x value: {X_test.iloc[-2]}')\n",
    "print(f'Actual y value: {y_test.iloc[-2]}')\n",
    "print(f'Predicted y value: {y_pred_test[-2]}')\n",
    "print(f'Residual: {y_test.iloc[-2] - y_pred_test[-2]}')"
   ]
  },
  {
   "cell_type": "code",
   "execution_count": 15,
   "id": "9869d1f1",
   "metadata": {},
   "outputs": [
    {
     "name": "stdout",
     "output_type": "stream",
     "text": [
      "Extrapolating a number smaller than the range\n",
      "Given x value: Chance of Admit     0.97\n",
      "Name: 101, dtype: float64\n",
      "Actual y value: 336\n",
      "Predicted y value: 332.8609628738498\n",
      "Residual: 3.1390371261501855\n"
     ]
    }
   ],
   "source": [
    "print('Extrapolating a number smaller than the range')\n",
    "print(f'Given x value: {X_test.iloc[-1]}')\n",
    "print(f'Actual y value: {y_test.iloc[-1]}')\n",
    "print(f'Predicted y value: {y_pred_test[-1]}')\n",
    "print(f'Residual: {y_test.iloc[-1] - y_pred_test[-1]}')"
   ]
  },
  {
   "cell_type": "markdown",
   "id": "28271049",
   "metadata": {},
   "source": [
    "## Evaluate Simple Linear Regression"
   ]
  },
  {
   "cell_type": "markdown",
   "id": "0f5095ec",
   "metadata": {},
   "source": [
    "This is the evaluation of the Simple Linear Regression that we performed"
   ]
  },
  {
   "cell_type": "code",
   "execution_count": 16,
   "id": "e1546805",
   "metadata": {},
   "outputs": [
    {
     "name": "stdout",
     "output_type": "stream",
     "text": [
      "Training set MSE = 41.84996323450346\n",
      "Testing set MSE = 51.21761849681351\n"
     ]
    }
   ],
   "source": [
    "from sklearn.metrics import mean_squared_error\n",
    "\n",
    "mse_train = mean_squared_error(y_train, y_pred_train)\n",
    "mse_test = mean_squared_error(y_test, y_pred_test)\n",
    "\n",
    "print(f'Training set MSE = {mse_train}')\n",
    "print(f'Testing set MSE = {mse_test}')"
   ]
  },
  {
   "cell_type": "markdown",
   "id": "decdfe38",
   "metadata": {},
   "source": [
    "### Conclusion"
   ]
  },
  {
   "cell_type": "markdown",
   "id": "ad412fa2",
   "metadata": {},
   "source": [
    "These MSE metrics would suggest the model is not a great fit, especially when applied to the test set. However, given a small data set with a high degree of sparsity it would be difficult to find a model with an extremely small MSE. An assesment of data sparsity would likely be necessary to determine if the given MSE would indicate a poorly fit line, or if it is as good as it can get."
   ]
  },
  {
   "cell_type": "markdown",
   "id": "30767399",
   "metadata": {},
   "source": [
    "## Multiple Linear Regression"
   ]
  },
  {
   "cell_type": "markdown",
   "id": "dd86b005",
   "metadata": {},
   "source": [
    "This is the Multiple Linear Regression model"
   ]
  },
  {
   "cell_type": "code",
   "execution_count": 17,
   "id": "c9b2debe",
   "metadata": {},
   "outputs": [
    {
     "name": "stdout",
     "output_type": "stream",
     "text": [
      "                            OLS Regression Results                            \n",
      "==============================================================================\n",
      "Dep. Variable:       Chance of Admit    R-squared:                       0.822\n",
      "Model:                            OLS   Adj. R-squared:                  0.819\n",
      "Method:                 Least Squares   F-statistic:                     324.4\n",
      "Date:                Fri, 05 Apr 2024   Prob (F-statistic):          8.21e-180\n",
      "Time:                        23:25:47   Log-Likelihood:                 701.38\n",
      "No. Observations:                 500   AIC:                            -1387.\n",
      "Df Residuals:                     492   BIC:                            -1353.\n",
      "Df Model:                           7                                         \n",
      "Covariance Type:            nonrobust                                         \n",
      "=====================================================================================\n",
      "                        coef    std err          t      P>|t|      [0.025      0.975]\n",
      "-------------------------------------------------------------------------------------\n",
      "const                -1.2757      0.104    -12.232      0.000      -1.481      -1.071\n",
      "GRE Score             0.0019      0.001      3.700      0.000       0.001       0.003\n",
      "TOEFL Score           0.0028      0.001      3.184      0.002       0.001       0.004\n",
      "University Rating     0.0059      0.004      1.563      0.119      -0.002       0.013\n",
      "SOP                   0.0016      0.005      0.348      0.728      -0.007       0.011\n",
      "LOR                   0.0169      0.004      4.074      0.000       0.009       0.025\n",
      "CGPA                  0.1184      0.010     12.198      0.000       0.099       0.137\n",
      "Research              0.0243      0.007      3.680      0.000       0.011       0.037\n",
      "==============================================================================\n",
      "Omnibus:                      112.770   Durbin-Watson:                   0.796\n",
      "Prob(Omnibus):                  0.000   Jarque-Bera (JB):              262.104\n",
      "Skew:                          -1.160   Prob(JB):                     1.22e-57\n",
      "Kurtosis:                       5.684   Cond. No.                     1.30e+04\n",
      "==============================================================================\n",
      "\n",
      "Notes:\n",
      "[1] Standard Errors assume that the covariance matrix of the errors is correctly specified.\n",
      "[2] The condition number is large, 1.3e+04. This might indicate that there are\n",
      "strong multicollinearity or other numerical problems.\n"
     ]
    }
   ],
   "source": [
    "import statsmodels.api as sm\n",
    "\n",
    "X = dfMB[['GRE Score', 'TOEFL Score', 'University Rating', 'SOP', 'LOR ', 'CGPA', 'Research']]\n",
    "y = dfMB['Chance of Admit ']\n",
    "\n",
    "X = sm.add_constant(X)\n",
    "\n",
    "model = sm.OLS(y, X).fit()\n",
    "\n",
    "print(model.summary())"
   ]
  },
  {
   "cell_type": "markdown",
   "id": "173e394f",
   "metadata": {},
   "source": [
    "# Classification"
   ]
  },
  {
   "cell_type": "markdown",
   "id": "b18d8c8d",
   "metadata": {},
   "source": [
    "The second part of part B:\n",
    "\n",
    "Rule 1:\n",
    "If GRE Score > 317.50 and CGPA <= 9.08:\n",
    "Class = low\n",
    "Interpretation: Applicants with a GRE score greater than 317.50 but a CGPA less than or equal to 9.08 are likely to have a 'low' chance of admission.\n",
    "\n",
    "Rule 2:\n",
    "If GRE Score > 317.50 and CGPA > 9.08 and University Rating <= 3.50:\n",
    "Class = medium\n",
    "Interpretation: Applicants with a GRE score greater than 317.50, a CGPA greater than 9.08, and a university rating less than or equal to 3.50 are likely to have a 'medium' chance of admission.\n",
    "\n",
    "Rule 3:\n",
    "If GRE Score > 317.50 and CGPA > 9.08 and University Rating > 3.50 and SOP <= 3.50:\n",
    "Class = high\n",
    "Interpretation: This rule suggests that applicants with a GRE score greater than 317.50, a CGPA greater than 3.50, and an SOP score less than or equal to 3.50 are likely to have a 'high' chance of admission.\n",
    "\n",
    "These rules help us narrow margin and gives us a low, medium, and high chance of admission perspective"
   ]
  },
  {
   "cell_type": "code",
   "execution_count": 18,
   "id": "0c93521f",
   "metadata": {},
   "outputs": [
    {
     "name": "stdout",
     "output_type": "stream",
     "text": [
      "Report:\n",
      "              precision    recall  f1-score   support\n",
      "\n",
      "        high       0.73      0.86      0.79        35\n",
      "         low       0.69      0.60      0.64        15\n",
      "      medium       0.78      0.72      0.75        50\n",
      "\n",
      "    accuracy                           0.75       100\n",
      "   macro avg       0.74      0.73      0.73       100\n",
      "weighted avg       0.75      0.75      0.75       100\n",
      "\n",
      "Confusion Matrix:\n",
      "[[30  1  4]\n",
      " [ 0  9  6]\n",
      " [11  3 36]]\n"
     ]
    }
   ],
   "source": [
    "from sklearn.model_selection import train_test_split\n",
    "from sklearn.tree import DecisionTreeClassifier\n",
    "from sklearn.metrics import classification_report, confusion_matrix\n",
    "\n",
    "# Discretize the target\n",
    "dfMB['Chance of Admit Class'] = pd.cut(dfMB['Chance of Admit '], bins=3, labels=['low', 'medium', 'high'])\n",
    "\n",
    "X = dfMB.drop(columns=['Chance of Admit ', 'Chance of Admit Class'])\n",
    "y = dfMB['Chance of Admit Class']\n",
    "\n",
    "X_train, X_test, y_train, y_test = train_test_split(X, y, test_size=0.2, random_state=42)\n",
    "\n",
    "clf = DecisionTreeClassifier()\n",
    "clf.fit(X_train, y_train)\n",
    "\n",
    "# Test\n",
    "y_pred = clf.predict(X_test)\n",
    "\n",
    "print(\"Report:\")\n",
    "print(classification_report(y_test, y_pred))\n",
    "\n",
    "print(\"Confusion Matrix:\")\n",
    "print(confusion_matrix(y_test, y_pred))"
   ]
  }
 ],
 "metadata": {
  "kernelspec": {
   "display_name": "Python 3 (ipykernel)",
   "language": "python",
   "name": "python3"
  },
  "language_info": {
   "codemirror_mode": {
    "name": "ipython",
    "version": 3
   },
   "file_extension": ".py",
   "mimetype": "text/x-python",
   "name": "python",
   "nbconvert_exporter": "python",
   "pygments_lexer": "ipython3",
   "version": "3.11.7"
  }
 },
 "nbformat": 4,
 "nbformat_minor": 5
}
